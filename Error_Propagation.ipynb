{
 "cells": [
  {
   "cell_type": "code",
   "execution_count": 1,
   "id": "27f73b51",
   "metadata": {},
   "outputs": [],
   "source": [
    "import sympy as sp"
   ]
  },
  {
   "cell_type": "markdown",
   "id": "9f1a035d",
   "metadata": {},
   "source": [
    "# For error propagation, the following function evaluates eq 44 in the report"
   ]
  },
  {
   "cell_type": "code",
   "execution_count": 2,
   "id": "252006e0",
   "metadata": {},
   "outputs": [],
   "source": [
    "def sqrt(x):\n",
    "    return sp.sqrt(x)\n",
    "#Input f=equation as strings, input values of variables and their std \n",
    "#var_vals and std_vals input has form var_vals = [('m',5),('g',9.82)] and std_vals = [('sigma_m',0.01),('sigma_g', 0.01)]\n",
    "#The function outputs the symbolic expression for the standard deviation of f, and the standard deviation of f in numbers.\n",
    "def std_propagation(f,equation,var_vals,std_vals):\n",
    "    #Input equation, connects variable to symbol\n",
    "    commaeq = equation.replace('/','*').replace('*','**').replace('**','+').replace('+','-').replace('-',',').replace('sqrt',',').replace('(',')').replace(')',',')\n",
    "    var_strs = commaeq.split(',')\n",
    "    #make unique, and sort variables in alphabetical order \n",
    "    Var_strs = sorted(list(set(var_strs))) \n",
    "    var_strs = [i for i in Var_strs if not (i.isnumeric() or i=='')]\n",
    "    std_strs = ['sigma_'+i for i in var_strs]\n",
    "    variables = sp.var(var_strs)\n",
    "    std_variables = sp.var(std_strs)\n",
    "    #save f-string\n",
    "    f_str = f\n",
    "    #Reconstruct equation in symbols\n",
    "    eq = sp.sympify(equation,locals={'sqrt':sqrt})\n",
    "    f = sp.var(f)\n",
    "    f = eq\n",
    "    #Calculate sf, form expression\n",
    "    terms = []\n",
    "    for j in range(len(variables)):\n",
    "        terms.append((sp.diff(f,variables[j])*std_variables[j])**2)\n",
    "    sf = sp.sqrt(sum(terms))\n",
    "    #Substitute values\n",
    "    var_vals = sorted(var_vals)\n",
    "    std_vals = sorted(std_vals)\n",
    "    sublist = var_vals+std_vals\n",
    "    sfv = sf.subs(sublist)\n",
    "    fval = f.subs(var_vals)\n",
    "    print(f'{f_str} = {fval:.5f} \\u00B1 {sfv:.5f}')\n",
    "    return sf,sfv,fval"
   ]
  },
  {
   "cell_type": "markdown",
   "id": "7b41e45d",
   "metadata": {},
   "source": [
    "# Start from the bottom with the error in the spring elongation deltaX"
   ]
  },
  {
   "cell_type": "code",
   "execution_count": 12,
   "id": "48651aa4",
   "metadata": {},
   "outputs": [
    {
     "name": "stdout",
     "output_type": "stream",
     "text": [
      "x = 0.20800 ± 0.00707\n"
     ]
    },
    {
     "data": {
      "text/latex": [
       "$\\displaystyle \\sqrt{\\sigma_{x1}^{2} + \\sigma_{x2}^{2}}$"
      ],
      "text/plain": [
       "sqrt(sigma_x1**2 + sigma_x2**2)"
      ]
     },
     "execution_count": 12,
     "metadata": {},
     "output_type": "execute_result"
    }
   ],
   "source": [
    "f = 'x'\n",
    "equation = 'x1-x2'\n",
    "var_vals = [('x1',0.4),('x2',0.192)]\n",
    "std_vals = [('sigma_x1',0.005),('sigma_x2',0.005)]\n",
    "xtuple = std_propagation(f,equation,var_vals,std_vals)\n",
    "xtuple[0]"
   ]
  },
  {
   "cell_type": "code",
   "execution_count": 14,
   "id": "3d9b837b",
   "metadata": {},
   "outputs": [
    {
     "name": "stdout",
     "output_type": "stream",
     "text": [
      "k = 3.41764 ± 0.11617\n"
     ]
    },
    {
     "data": {
      "text/latex": [
       "$\\displaystyle \\sqrt{\\frac{g^{2} m^{2} \\sigma_{x}^{2}}{x^{4}} + \\frac{g^{2} \\sigma_{m}^{2}}{x^{2}} + \\frac{m^{2} \\sigma_{g}^{2}}{x^{2}}}$"
      ],
      "text/plain": [
       "sqrt(g**2*m**2*sigma_x**2/x**4 + g**2*sigma_m**2/x**2 + m**2*sigma_g**2/x**2)"
      ]
     },
     "execution_count": 14,
     "metadata": {},
     "output_type": "execute_result"
    }
   ],
   "source": [
    "#Calculation of the error in the spring constant k, with uncertainty in x is used\n",
    "var_vals = [('g',9.82),('m',0.07239),('x',0.208)]\n",
    "std_vals = [('sigma_g',0),('sigma_m',0),('sigma_x',0.00707)]\n",
    "f = 'k'\n",
    "equation = 'm*g/x'\n",
    "\n",
    "ktuple = std_propagation('k','m*g/x',var_vals,std_vals)\n",
    "ktuple[0]"
   ]
  },
  {
   "cell_type": "code",
   "execution_count": 5,
   "id": "5a7448b0",
   "metadata": {},
   "outputs": [
    {
     "name": "stdout",
     "output_type": "stream",
     "text": [
      "m_part = 0.02946 ± 0.00004\n"
     ]
    },
    {
     "data": {
      "text/latex": [
       "$\\displaystyle \\sqrt{\\frac{L_{part}^{2} \\sigma_{m tot}^{2}}{L_{tot}^{2}} + \\frac{L_{part}^{2} m_{tot}^{2} \\sigma_{L tot}^{2}}{L_{tot}^{4}} + \\frac{m_{tot}^{2} \\sigma_{L part}^{2}}{L_{tot}^{2}}}$"
      ],
      "text/plain": [
       "sqrt(L_part**2*sigma_m_tot**2/L_tot**2 + L_part**2*m_tot**2*sigma_L_tot**2/L_tot**4 + m_tot**2*sigma_L_part**2/L_tot**2)"
      ]
     },
     "execution_count": 5,
     "metadata": {},
     "output_type": "execute_result"
    }
   ],
   "source": [
    "#Calculate uncertainty in the mass in parts of the rod due to fraction of lengths used in calculation\n",
    "f = 'm_part'\n",
    "equation = 'm_tot*L_part/L_tot'\n",
    "var_vals = [('L_part',0.534),('L_tot',0.56),('m_tot',0.03089)]\n",
    "std_vals = [('sigma_L_part',0.0005),('sigma_L_tot',0.0005),('sigma_m_tot',0)]\n",
    "mlow_tuple = std_propagation(f,equation,var_vals,std_vals)\n",
    "mlow_tuple[0]"
   ]
  },
  {
   "cell_type": "code",
   "execution_count": 6,
   "id": "118192b9",
   "metadata": {},
   "outputs": [
    {
     "name": "stdout",
     "output_type": "stream",
     "text": [
      "m_part = 0.00143 ± 0.00003\n"
     ]
    },
    {
     "data": {
      "text/latex": [
       "$\\displaystyle \\sqrt{\\frac{L_{part}^{2} \\sigma_{m tot}^{2}}{L_{tot}^{2}} + \\frac{L_{part}^{2} m_{tot}^{2} \\sigma_{L tot}^{2}}{L_{tot}^{4}} + \\frac{m_{tot}^{2} \\sigma_{L part}^{2}}{L_{tot}^{2}}}$"
      ],
      "text/plain": [
       "sqrt(L_part**2*sigma_m_tot**2/L_tot**2 + L_part**2*m_tot**2*sigma_L_tot**2/L_tot**4 + m_tot**2*sigma_L_part**2/L_tot**2)"
      ]
     },
     "execution_count": 6,
     "metadata": {},
     "output_type": "execute_result"
    }
   ],
   "source": [
    "#Calculate uncertainty in the mass in parts of the rod due to fraction of lengths used in calculation\n",
    "f = 'm_part'\n",
    "equation = 'm_tot*L_part/L_tot'\n",
    "var_vals = [('L_part',0.026),('L_tot',0.56),('m_tot',0.03089)]\n",
    "std_vals = [('sigma_L_part',0.0005),('sigma_L_tot',0.0005),('sigma_m_tot',0)]\n",
    "mlow_tuple = std_propagation(f,equation,var_vals,std_vals)\n",
    "mlow_tuple[0]"
   ]
  },
  {
   "cell_type": "code",
   "execution_count": 8,
   "id": "1759162d",
   "metadata": {},
   "outputs": [
    {
     "name": "stdout",
     "output_type": "stream",
     "text": [
      "I = 0.02222 ± 0.00004\n",
      "I = 0.00280 ± 0.00001\n",
      "I = 0.00000 ± 0.00000\n",
      "The total I is: 0.0250239267435417\n",
      "The standard deviation of I_tot is: 0.0000408900731378400\n"
     ]
    }
   ],
   "source": [
    "#Loop for each part, [m_pendulum,m_rod_lower,m_rod_upper]\n",
    "#Note that the moment of inertia of the smallest piece is very small and the anwer is rounded to five decimals\n",
    "f = 'I'\n",
    "equation = 'm*r1**2/4+m*r2**2/4+m*h**2/12+m*d**2'\n",
    "VAR_VALUES = [[('d',0.554),('h',0.02),('m',0.07239),('r1',0.004),('r2',0.0125)],\n",
    "              [('d',0.267),('h',0.534),('m',0.02946),('r1',0.003),('r2',0.004)],\n",
    "              [('d',0.013),('h',0.026),('m',0.00143),('r1',0.003),('r2',0.004)]]\n",
    "STD_VALUES = [[('sigma_d',0.0005),('sigma_h',0.0005),('sigma_m',0),('sigma_r1',0.0005),('sigma_r2',0.0005)],\n",
    "              [('sigma_d',0.0005),('sigma_h',0.0005),('sigma_m',0),('sigma_r1',0.0005),('sigma_r2',0.0005)],\n",
    "              [('sigma_d',0.0005),('sigma_h',0.0005),('sigma_m',0),('sigma_r1',0.0005),('sigma_r2',0.0005)]]\n",
    "I_list = []\n",
    "sigmaI_list = []\n",
    "for i in range(3):\n",
    "    Itruple = std_propagation(f,equation,VAR_VALUES[i],STD_VALUES[i])\n",
    "    I_list.append(Itruple[2])\n",
    "    sigmaI_list.append(Itruple[1])\n",
    "I_tot = sum(I_list)\n",
    "print(f'The total I is: {I_tot}')\n",
    "terms = []\n",
    "for j in sigmaI_list:\n",
    "    terms.append(j**2)\n",
    "sf = sp.sqrt(sum(terms))\n",
    "print(f'The standard deviation of I_tot is: {sf}')"
   ]
  },
  {
   "cell_type": "code",
   "execution_count": 19,
   "id": "5a3ea2d5",
   "metadata": {},
   "outputs": [
    {
     "name": "stdout",
     "output_type": "stream",
     "text": [
      "omega_1 = 4.64587 ± 0.00439\n"
     ]
    },
    {
     "data": {
      "text/latex": [
       "$\\displaystyle \\sqrt{\\frac{L g \\sigma_{m}^{2}}{4 I_{tot} m} + \\frac{L m \\sigma_{g}^{2}}{4 I_{tot} g} + \\frac{g m \\sigma_{L}^{2}}{4 I_{tot} L} + \\frac{L g m \\sigma_{I tot}^{2}}{4 I_{tot}^{3}}}$"
      ],
      "text/plain": [
       "sqrt(L*g*sigma_m**2/(4*I_tot*m) + L*m*sigma_g**2/(4*I_tot*g) + g*m*sigma_L**2/(4*I_tot*L) + L*g*m*sigma_I_tot**2/(4*I_tot**3))"
      ]
     },
     "execution_count": 19,
     "metadata": {},
     "output_type": "execute_result"
    }
   ],
   "source": [
    "f= 'omega_1'\n",
    "equation = 'sqrt(L*g*m/I_tot)'\n",
    "var_vals = [('L',0.534),('g',9.82),('m',0.103),('I_tot',0.025024)]\n",
    "std_vals = [('sigma_L',0.0005),('sigma_g',0),('sigma_m',0.00001),('sigma_I_tot',0.000041)]\n",
    "omega1_truple = std_propagation(f,equation,var_vals,std_vals)\n",
    "omega1_truple[0]"
   ]
  },
  {
   "cell_type": "code",
   "execution_count": 16,
   "id": "0c7908af",
   "metadata": {},
   "outputs": [
    {
     "name": "stdout",
     "output_type": "stream",
     "text": [
      "omega_2 = 5.05148 ± 0.01426\n"
     ]
    },
    {
     "data": {
      "text/latex": [
       "$\\displaystyle \\sqrt{\\frac{\\sigma_{I tot}^{2} \\left(- \\frac{L g m}{2 I_{tot}^{2}} - \\frac{k l^{2}}{I_{tot}^{2}}\\right)^{2}}{\\frac{L g m}{I_{tot}} + \\frac{2 k l^{2}}{I_{tot}}} + \\frac{L^{2} g^{2} \\sigma_{m}^{2}}{4 I_{tot}^{2} \\left(\\frac{L g m}{I_{tot}} + \\frac{2 k l^{2}}{I_{tot}}\\right)} + \\frac{L^{2} m^{2} \\sigma_{g}^{2}}{4 I_{tot}^{2} \\left(\\frac{L g m}{I_{tot}} + \\frac{2 k l^{2}}{I_{tot}}\\right)} + \\frac{g^{2} m^{2} \\sigma_{L}^{2}}{4 I_{tot}^{2} \\left(\\frac{L g m}{I_{tot}} + \\frac{2 k l^{2}}{I_{tot}}\\right)} + \\frac{4 k^{2} l^{2} \\sigma_{l}^{2}}{I_{tot}^{2} \\left(\\frac{L g m}{I_{tot}} + \\frac{2 k l^{2}}{I_{tot}}\\right)} + \\frac{l^{4} \\sigma_{k}^{2}}{I_{tot}^{2} \\left(\\frac{L g m}{I_{tot}} + \\frac{2 k l^{2}}{I_{tot}}\\right)}}$"
      ],
      "text/plain": [
       "sqrt(sigma_I_tot**2*(-L*g*m/(2*I_tot**2) - k*l**2/I_tot**2)**2/(L*g*m/I_tot + 2*k*l**2/I_tot) + L**2*g**2*sigma_m**2/(4*I_tot**2*(L*g*m/I_tot + 2*k*l**2/I_tot)) + L**2*m**2*sigma_g**2/(4*I_tot**2*(L*g*m/I_tot + 2*k*l**2/I_tot)) + g**2*m**2*sigma_L**2/(4*I_tot**2*(L*g*m/I_tot + 2*k*l**2/I_tot)) + 4*k**2*l**2*sigma_l**2/(I_tot**2*(L*g*m/I_tot + 2*k*l**2/I_tot)) + l**4*sigma_k**2/(I_tot**2*(L*g*m/I_tot + 2*k*l**2/I_tot)))"
      ]
     },
     "execution_count": 16,
     "metadata": {},
     "output_type": "execute_result"
    }
   ],
   "source": [
    "f= 'omega_2'\n",
    "equation = 'sqrt(L*g*m/I_tot+2*k*l**2/I_tot)'\n",
    "var_vals = [('L',0.534),('g',9.82),('m',0.103),('I_tot',0.025024),('k',3.41764),('l',0.12)]\n",
    "std_vals = [('sigma_L',0.0005),('sigma_g',0),('sigma_m',0.00001),('sigma_I_tot',0.000041),('sigma_k',0.1150),('sigma_l',0.0005)]\n",
    "omega2_truple = std_propagation(f,equation,var_vals,std_vals)\n",
    "omega2_truple[0]"
   ]
  },
  {
   "cell_type": "code",
   "execution_count": null,
   "id": "cb29b6ea",
   "metadata": {},
   "outputs": [],
   "source": []
  }
 ],
 "metadata": {
  "kernelspec": {
   "display_name": "Python 3",
   "language": "python",
   "name": "python3"
  },
  "language_info": {
   "codemirror_mode": {
    "name": "ipython",
    "version": 3
   },
   "file_extension": ".py",
   "mimetype": "text/x-python",
   "name": "python",
   "nbconvert_exporter": "python",
   "pygments_lexer": "ipython3",
   "version": "3.7.10"
  }
 },
 "nbformat": 4,
 "nbformat_minor": 5
}
